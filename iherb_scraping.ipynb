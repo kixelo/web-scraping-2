{
 "cells": [
  {
   "cell_type": "code",
   "execution_count": 382,
   "id": "4e41d183",
   "metadata": {},
   "outputs": [
    {
     "data": {
      "text/plain": [
       "'4'"
      ]
     },
     "execution_count": 382,
     "metadata": {},
     "output_type": "execute_result"
    }
   ],
   "source": [
    "from bs4 import BeautifulSoup\n",
    "import requests\n",
    "import pandas\n",
    "\n",
    "r = requests.get(\"https://iherb.com/c/sports-accessories\")\n",
    "c = r.content\n",
    "soup = BeautifulSoup(c, \"html.parser\")\n",
    "#print(soup.prettify())\n",
    "#all = soup.find_all(\"div\", {\"class\":\"product-cell-container col-xs-12 col-sm-12 col-md-8 col-lg-6\"})\n",
    "all = soup.find_all(\"div\", {\"class\":\"panel-stack defer-block\"})\n",
    "all\n",
    "all[0].find(\"span\", {\"class\":\"price\"}).text.replace(\"\\n\",\"\")\n",
    "\n",
    "page_nr=soup.find_all(\"a\", {\"class\":\"pagination-link\"})[-1].text.replace(\"\\n\",\"\")\n",
    "page_nr"
   ]
  },
  {
   "cell_type": "code",
   "execution_count": 392,
   "id": "b6bff286",
   "metadata": {},
   "outputs": [
    {
     "name": "stdout",
     "output_type": "stream",
     "text": [
      "https://sk.iherb.com/c/sports-accessories?p=1\n",
      "https://sk.iherb.com/c/sports-accessories?p=2\n",
      "https://sk.iherb.com/c/sports-accessories?p=3\n",
      "https://sk.iherb.com/c/sports-accessories?p=4\n"
     ]
    }
   ],
   "source": [
    "l=[]\n",
    "base_url=\"https://sk.iherb.com/c/sports-accessories?p=\"\n",
    "for page in range(1,int(page_nr)+1,1):\n",
    "    print(base_url+str(page))\n",
    "    r=requests.get(base_url+str(page))\n",
    "    c=r.content\n",
    "    soup=BeautifulSoup(c, \"html.parser\")\n",
    "    all = soup.find_all(\"div\", {\"class\":\"product-cell-container col-xs-12 col-sm-12 col-md-8 col-lg-6\"})\n",
    "    for item in all:\n",
    "        d={}\n",
    "        d[\"Price\"]=item.find(\"span\", {\"class\":\"price\"}).text.replace(\"\\n\",\"\")\n",
    "        d[\"Product name\"]=item.find_all(\"div\", {\"class\":\"product-title\"})[0].find(\"bdi\").text\n",
    "        d[\"Reviews\"]=item.find_all(\"a\",{\"class\":\"rating-count\"})[0].find(\"span\").text\n",
    "\n",
    "        l.append(d)"
   ]
  },
  {
   "cell_type": "code",
   "execution_count": 393,
   "id": "cc38a521",
   "metadata": {},
   "outputs": [
    {
     "data": {
      "text/html": [
       "<div>\n",
       "<style scoped>\n",
       "    .dataframe tbody tr th:only-of-type {\n",
       "        vertical-align: middle;\n",
       "    }\n",
       "\n",
       "    .dataframe tbody tr th {\n",
       "        vertical-align: top;\n",
       "    }\n",
       "\n",
       "    .dataframe thead th {\n",
       "        text-align: right;\n",
       "    }\n",
       "</style>\n",
       "<table border=\"1\" class=\"dataframe\">\n",
       "  <thead>\n",
       "    <tr style=\"text-align: right;\">\n",
       "      <th></th>\n",
       "      <th>Price</th>\n",
       "      <th>Product name</th>\n",
       "      <th>Reviews</th>\n",
       "    </tr>\n",
       "  </thead>\n",
       "  <tbody>\n",
       "    <tr>\n",
       "      <th>0</th>\n",
       "      <td>€3.37</td>\n",
       "      <td>Purely Inspired, Shaker Cup, 24 oz</td>\n",
       "      <td>281</td>\n",
       "    </tr>\n",
       "    <tr>\n",
       "      <th>1</th>\n",
       "      <td>€10.16</td>\n",
       "      <td>Blender Bottle, Classic with Loop, Black, 28 o...</td>\n",
       "      <td>828</td>\n",
       "    </tr>\n",
       "    <tr>\n",
       "      <th>2</th>\n",
       "      <td>€16.64</td>\n",
       "      <td>Blender Bottle, Radian, Insulated Stainless St...</td>\n",
       "      <td>264</td>\n",
       "    </tr>\n",
       "    <tr>\n",
       "      <th>3</th>\n",
       "      <td>€13.16</td>\n",
       "      <td>Nutrex Research, Waist Trimmer, Grey/Black, 1 ...</td>\n",
       "      <td>232</td>\n",
       "    </tr>\n",
       "    <tr>\n",
       "      <th>4</th>\n",
       "      <td>€9.23</td>\n",
       "      <td>Blender Bottle, Classic with Loop, Pebble Grey...</td>\n",
       "      <td>543</td>\n",
       "    </tr>\n",
       "    <tr>\n",
       "      <th>...</th>\n",
       "      <td>...</td>\n",
       "      <td>...</td>\n",
       "      <td>...</td>\n",
       "    </tr>\n",
       "    <tr>\n",
       "      <th>69</th>\n",
       "      <td>€18.48</td>\n",
       "      <td>Helimix, Shaker Cup, Black, 28 oz</td>\n",
       "      <td>12</td>\n",
       "    </tr>\n",
       "    <tr>\n",
       "      <th>70</th>\n",
       "      <td>€5.39</td>\n",
       "      <td>Nature's Plus, Shaker Cup, 24 oz</td>\n",
       "      <td>768</td>\n",
       "    </tr>\n",
       "    <tr>\n",
       "      <th>71</th>\n",
       "      <td>€18.48</td>\n",
       "      <td>Helimix, Shaker Cup, Island Paradise, 28 oz</td>\n",
       "      <td>14</td>\n",
       "    </tr>\n",
       "    <tr>\n",
       "      <th>72</th>\n",
       "      <td>€3.95</td>\n",
       "      <td>ALLMAX Nutrition, Leak-Proof Shaker, BPA-FREE ...</td>\n",
       "      <td>4598</td>\n",
       "    </tr>\n",
       "    <tr>\n",
       "      <th>73</th>\n",
       "      <td>€4.58</td>\n",
       "      <td>iHerb Goods, iHerb Blender Bottle with Blender...</td>\n",
       "      <td>24563</td>\n",
       "    </tr>\n",
       "  </tbody>\n",
       "</table>\n",
       "<p>74 rows × 3 columns</p>\n",
       "</div>"
      ],
      "text/plain": [
       "     Price                                       Product name Reviews\n",
       "0    €3.37                 Purely Inspired, Shaker Cup, 24 oz     281\n",
       "1   €10.16  Blender Bottle, Classic with Loop, Black, 28 o...     828\n",
       "2   €16.64  Blender Bottle, Radian, Insulated Stainless St...     264\n",
       "3   €13.16  Nutrex Research, Waist Trimmer, Grey/Black, 1 ...     232\n",
       "4    €9.23  Blender Bottle, Classic with Loop, Pebble Grey...     543\n",
       "..     ...                                                ...     ...\n",
       "69  €18.48                  Helimix, Shaker Cup, Black, 28 oz      12\n",
       "70   €5.39                   Nature's Plus, Shaker Cup, 24 oz     768\n",
       "71  €18.48        Helimix, Shaker Cup, Island Paradise, 28 oz      14\n",
       "72   €3.95  ALLMAX Nutrition, Leak-Proof Shaker, BPA-FREE ...    4598\n",
       "73   €4.58  iHerb Goods, iHerb Blender Bottle with Blender...   24563\n",
       "\n",
       "[74 rows x 3 columns]"
      ]
     },
     "execution_count": 393,
     "metadata": {},
     "output_type": "execute_result"
    }
   ],
   "source": [
    "import pandas\n",
    "df=pandas.DataFrame(l)\n",
    "df"
   ]
  },
  {
   "cell_type": "code",
   "execution_count": 394,
   "id": "0726667f",
   "metadata": {},
   "outputs": [],
   "source": [
    "df.to_csv(\"iherb_scraping.csv\")"
   ]
  }
 ],
 "metadata": {
  "kernelspec": {
   "display_name": "Python 3 (ipykernel)",
   "language": "python",
   "name": "python3"
  },
  "language_info": {
   "codemirror_mode": {
    "name": "ipython",
    "version": 3
   },
   "file_extension": ".py",
   "mimetype": "text/x-python",
   "name": "python",
   "nbconvert_exporter": "python",
   "pygments_lexer": "ipython3",
   "version": "3.8.10"
  }
 },
 "nbformat": 4,
 "nbformat_minor": 5
}
